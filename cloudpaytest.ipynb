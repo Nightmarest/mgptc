{
 "cells": [
  {
   "cell_type": "code",
   "execution_count": 1,
   "id": "initial_id",
   "metadata": {
    "collapsed": true,
    "ExecuteTime": {
     "end_time": "2023-10-07T09:50:10.159506Z",
     "start_time": "2023-10-07T09:50:09.892030Z"
    }
   },
   "outputs": [],
   "source": [
    "from cloudpayments import CloudPayments\n"
   ]
  },
  {
   "cell_type": "code",
   "execution_count": 2,
   "outputs": [
    {
     "data": {
      "text/plain": "'2fb958ee-c117-48b6-b385-38a267ecbde3'"
     },
     "execution_count": 2,
     "metadata": {},
     "output_type": "execute_result"
    }
   ],
   "source": [
    "client = CloudPayments('pk_5df88d9e7d056f2d1b4c0bbfabd55', 'ec642efb31651c6b6f43c3815562627c')\n",
    "client.test()"
   ],
   "metadata": {
    "collapsed": false,
    "ExecuteTime": {
     "end_time": "2023-10-07T09:50:12.408909Z",
     "start_time": "2023-10-07T09:50:11.908800Z"
    }
   },
   "id": "579a1275edbc643"
  },
  {
   "cell_type": "code",
   "execution_count": 4,
   "outputs": [],
   "source": [
    "cry = \"\"\"eyJUeXBlIjoiQ2xvdWRDYXJkIiwibWV0YURhdGEiOnsiUGF5bWVudFVybCI6Imh0dHBzOi8vZGV2ZWxvcGVycy5jbG91ZHBheW1lbnRzLnJ1LyIsIlJlZmVycmVyVXJsIjoiaHR0cHM6Ly9kZXZlbG9wZXJzLmNsb3VkcGF5bWVudHMucnUvIn0sIkJyb3dzZXJJbmZvQmFzZTY0IjoiZXlKQlkyTmxjSFJJWldGa1pYSWlPaUlxTHlvaUxDSktZWFpoUlc1aFlteGxaQ0k2Wm1Gc2MyVXNJa3BoZG1GVFkzSnBjSFJGYm1GaWJHVmtJanAwY25WbExDSk1ZVzVuZFdGblpTSTZJbVZ1TFVkQ0lpd2lRMjlzYjNKRVpYQjBhQ0k2SWpJMElpd2lTR1ZwWjJoMElqb2lPVEF3SWl3aVYybGtkR2dpT2lJeE5EUXdJaXdpVkdsdFpWcHZibVVpT2lJdE16QXdJaXdpVlhObGNrRm5aVzUwSWpvaVRXOTZhV3hzWVM4MUxqQWdLRTFoWTJsdWRHOXphRHNnU1c1MFpXd2dUV0ZqSUU5VElGZ2dNVEJmTVRWZk55a2dRWEJ3YkdWWFpXSkxhWFF2TmpBMUxqRXVNVFVnS0V0SVZFMU1MQ0JzYVd0bElFZGxZMnR2S1NCV1pYSnphVzl1THpFMkxqTWdVMkZtWVhKcEx6WXdOUzR4TGpFMUluMD0iLCJGb3JtYXQiOjEsIkNhcmRJbmZvIjp7IkZpcnN0U2l4RGlnaXRzIjoiNDI0MjQyIiwiTGFzdEZvdXJEaWdpdHMiOiI0MjQyIiwiRXhwRGF0ZVllYXIiOiIyNSIsIkV4cERhdGVNb250aCI6IjAxIn0sIktleVZlcnNpb24iOiIxMyIsIlZhbHVlIjoiWFY5b0RCYTd5WGxob0dNekJwOHJreHJ0NXJPQ2NXMjRkYkJFQXFIWlhWditqdGdVN1RLSGpQK0hqa2s0SXRDZkU4ZGg1dGcyd3RVUE90MnYxWGJZNit0dTZMY0pZekJ2VnJoME5sLy9xeFlQb2pGYVRiQVYwQVYxWElZZnBZYXNqOWZ6YktTNFp1cjErbWlIS3p4SkNLWk1HN2xkMCs4TXVEaG9zcDhQRTlKYUFVSFFXMWJXWjJtRTdkRTRGRWFneWJTMlpQQ0JDRTlZdjVKQStPZGQwbnJFS0QrNnU2cmVGQnpOQVJiVHdWU3oyTDhDOVp6VE5ST1F0ME1VeUlpdkVaOEtqdzJhcWc4T1pSbVBFRXdPYnV6c1JTemV4OUwrMS9TMlA1c3ZCV091ejFjbXJIVXU4eEVMREloZlF3ejBhRStMajlaT2dqbkhVZFBSTW5odFdnPT0ifQ==\"\"\""
   ],
   "metadata": {
    "collapsed": false,
    "ExecuteTime": {
     "end_time": "2023-10-07T09:57:09.820724Z",
     "start_time": "2023-10-07T09:57:09.724915Z"
    }
   },
   "id": "ad30e679a22a7142"
  },
  {
   "cell_type": "code",
   "execution_count": 7,
   "outputs": [
    {
     "ename": "CloudPaymentsError",
     "evalue": "The value 'checkout' is not valid for CardCryptogramPacket.",
     "output_type": "error",
     "traceback": [
      "\u001B[0;31m---------------------------------------------------------------------------\u001B[0m",
      "\u001B[0;31mCloudPaymentsError\u001B[0m                        Traceback (most recent call last)",
      "Cell \u001B[0;32mIn[7], line 1\u001B[0m\n\u001B[0;32m----> 1\u001B[0m \u001B[43mclient\u001B[49m\u001B[38;5;241;43m.\u001B[39;49m\u001B[43mcharge_card\u001B[49m\u001B[43m(\u001B[49m\u001B[43mcryptogram\u001B[49m\u001B[38;5;241;43m=\u001B[39;49m\u001B[38;5;124;43m\"\u001B[39;49m\u001B[38;5;124;43mcheckout\u001B[39;49m\u001B[38;5;124;43m\"\u001B[39;49m\u001B[43m,\u001B[49m\u001B[43m \u001B[49m\u001B[43mamount\u001B[49m\u001B[38;5;241;43m=\u001B[39;49m\u001B[38;5;124;43m\"\u001B[39;49m\u001B[38;5;124;43m1000\u001B[39;49m\u001B[38;5;124;43m\"\u001B[39;49m\u001B[43m,\u001B[49m\u001B[43m \u001B[49m\u001B[43mcurrency\u001B[49m\u001B[38;5;241;43m=\u001B[39;49m\u001B[38;5;124;43m\"\u001B[39;49m\u001B[38;5;124;43mRUB\u001B[39;49m\u001B[38;5;124;43m\"\u001B[39;49m\u001B[43m,\u001B[49m\u001B[43m \u001B[49m\u001B[43mname\u001B[49m\u001B[38;5;241;43m=\u001B[39;49m\u001B[38;5;124;43m\"\u001B[39;49m\u001B[38;5;124;43mla\u001B[39;49m\u001B[38;5;124;43m\"\u001B[39;49m\u001B[43m,\u001B[49m\u001B[43m \u001B[49m\u001B[43mip_address\u001B[49m\u001B[38;5;241;43m=\u001B[39;49m\u001B[38;5;124;43m\"\u001B[39;49m\u001B[38;5;124;43m0.0.0.0\u001B[39;49m\u001B[38;5;124;43m\"\u001B[39;49m\u001B[43m,\u001B[49m\n\u001B[1;32m      2\u001B[0m \u001B[43m            \u001B[49m\u001B[43minvoice_id\u001B[49m\u001B[38;5;241;43m=\u001B[39;49m\u001B[38;5;28;43;01mNone\u001B[39;49;00m\u001B[43m,\u001B[49m\u001B[43m \u001B[49m\u001B[43mdescription\u001B[49m\u001B[38;5;241;43m=\u001B[39;49m\u001B[38;5;28;43;01mNone\u001B[39;49;00m\u001B[43m,\u001B[49m\u001B[43m \u001B[49m\u001B[43maccount_id\u001B[49m\u001B[38;5;241;43m=\u001B[39;49m\u001B[38;5;28;43;01mNone\u001B[39;49;00m\u001B[43m,\u001B[49m\n\u001B[1;32m      3\u001B[0m \u001B[43m            \u001B[49m\u001B[43memail\u001B[49m\u001B[38;5;241;43m=\u001B[39;49m\u001B[38;5;28;43;01mNone\u001B[39;49;00m\u001B[43m,\u001B[49m\u001B[43m \u001B[49m\u001B[43mdata\u001B[49m\u001B[38;5;241;43m=\u001B[39;49m\u001B[38;5;28;43;01mNone\u001B[39;49;00m\u001B[43m,\u001B[49m\u001B[43m \u001B[49m\u001B[43mrequire_confirmation\u001B[49m\u001B[38;5;241;43m=\u001B[39;49m\u001B[38;5;28;43;01mFalse\u001B[39;49;00m\u001B[43m,\u001B[49m\n\u001B[1;32m      4\u001B[0m \u001B[43m            \u001B[49m\u001B[43mservice_fee\u001B[49m\u001B[38;5;241;43m=\u001B[39;49m\u001B[38;5;28;43;01mNone\u001B[39;49;00m\u001B[43m)\u001B[49m\n",
      "File \u001B[0;32m~/PycharmProjects/bot/venv/lib/python3.10/site-packages/cloudpayments/client.py:76\u001B[0m, in \u001B[0;36mCloudPayments.charge_card\u001B[0;34m(self, cryptogram, amount, currency, name, ip_address, invoice_id, description, account_id, email, data, require_confirmation, service_fee)\u001B[0m\n\u001B[1;32m     74\u001B[0m     \u001B[38;5;28;01mreturn\u001B[39;00m Transaction\u001B[38;5;241m.\u001B[39mfrom_dict(response[\u001B[38;5;124m'\u001B[39m\u001B[38;5;124mModel\u001B[39m\u001B[38;5;124m'\u001B[39m])\n\u001B[1;32m     75\u001B[0m \u001B[38;5;28;01mif\u001B[39;00m response[\u001B[38;5;124m'\u001B[39m\u001B[38;5;124mMessage\u001B[39m\u001B[38;5;124m'\u001B[39m]:\n\u001B[0;32m---> 76\u001B[0m     \u001B[38;5;28;01mraise\u001B[39;00m CloudPaymentsError(response)\n\u001B[1;32m     77\u001B[0m \u001B[38;5;28;01mif\u001B[39;00m \u001B[38;5;124m'\u001B[39m\u001B[38;5;124mReasonCode\u001B[39m\u001B[38;5;124m'\u001B[39m \u001B[38;5;129;01min\u001B[39;00m response[\u001B[38;5;124m'\u001B[39m\u001B[38;5;124mModel\u001B[39m\u001B[38;5;124m'\u001B[39m]:\n\u001B[1;32m     78\u001B[0m     \u001B[38;5;28;01mraise\u001B[39;00m PaymentError(response)\n",
      "\u001B[0;31mCloudPaymentsError\u001B[0m: The value 'checkout' is not valid for CardCryptogramPacket."
     ]
    }
   ],
   "source": [
    "client.charge_card(cryptogram=\"checkout\", amount=\"1000\", currency=\"RUB\", name=\"la\", ip_address=\"0.0.0.0\",\n",
    "            invoice_id=None, description=None, account_id=None,\n",
    "            email=None, data=None, require_confirmation=False,\n",
    "            service_fee=None)"
   ],
   "metadata": {
    "collapsed": false,
    "ExecuteTime": {
     "end_time": "2023-10-07T09:59:26.178881Z",
     "start_time": "2023-10-07T09:59:25.909912Z"
    }
   },
   "id": "7bb789083316d0a4"
  },
  {
   "cell_type": "code",
   "execution_count": 7,
   "outputs": [],
   "source": [
    "from datetime import datetime"
   ],
   "metadata": {
    "collapsed": false,
    "ExecuteTime": {
     "end_time": "2023-10-08T08:37:15.207676Z",
     "start_time": "2023-10-08T08:37:15.133378Z"
    }
   },
   "id": "cdc59377a16bcfd9"
  },
  {
   "cell_type": "code",
   "execution_count": 10,
   "outputs": [
    {
     "name": "stdout",
     "output_type": "stream",
     "text": [
      "date and time = 2023-08-10T13:38:12\n"
     ]
    }
   ],
   "source": [
    "now = datetime.now()\n",
    "dt_string = now.strftime(\"%Y-%d-%mT%H:%M:%S\")\n",
    "print(\"date and time =\", dt_string)"
   ],
   "metadata": {
    "collapsed": false,
    "ExecuteTime": {
     "end_time": "2023-10-08T08:38:12.060569Z",
     "start_time": "2023-10-08T08:38:12.041881Z"
    }
   },
   "id": "b8074a50547bc1c6"
  },
  {
   "cell_type": "code",
   "execution_count": null,
   "outputs": [],
   "source": [],
   "metadata": {
    "collapsed": false
   },
   "id": "68969894931393e5"
  }
 ],
 "metadata": {
  "kernelspec": {
   "display_name": "Python 3",
   "language": "python",
   "name": "python3"
  },
  "language_info": {
   "codemirror_mode": {
    "name": "ipython",
    "version": 2
   },
   "file_extension": ".py",
   "mimetype": "text/x-python",
   "name": "python",
   "nbconvert_exporter": "python",
   "pygments_lexer": "ipython2",
   "version": "2.7.6"
  }
 },
 "nbformat": 4,
 "nbformat_minor": 5
}
